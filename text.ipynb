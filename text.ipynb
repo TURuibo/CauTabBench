{
 "cells": [
  {
   "cell_type": "code",
   "execution_count": 1,
   "metadata": {},
   "outputs": [],
   "source": [
    "import os,sys\n",
    "cwd = os.path.abspath(os.path.curdir)\n",
    "sys.path.append(cwd)  # workplace\n",
    "import time\n",
    "\n",
    "\n",
    "import numpy as np\n",
    "import pandas as pd\n",
    "import torch\n",
    "\n",
    "import argparse\n"
   ]
  },
  {
   "cell_type": "code",
   "execution_count": 3,
   "metadata": {},
   "outputs": [],
   "source": [
    "\n",
    "def get_dag_table(dataname,seed_sim):\n",
    "    adj_path = cwd+f'/data/sim_{dataname}/{seed_sim}/generated_graph_target.csv'\n",
    "    graph_np = pd.read_csv(adj_path)\n",
    "    graph_np = graph_np.iloc[:10,:10]\n",
    "    dag_gt = graph_np.to_numpy()\n",
    "\n",
    "    data_train_path = cwd+f'/data/sim_{dataname}/{seed_sim}/train.csv'\n",
    "    data_train = pd.read_csv(data_train_path)\n",
    "    data_train = data_train.iloc[:,:10]\n",
    "    return dag_gt,data_train  \n",
    "\n",
    "dag_gt,data_train = get_dag_table('lu',100)\n",
    "# adj_gt = get_adj(dag_gt) \n"
   ]
  },
  {
   "cell_type": "code",
   "execution_count": 4,
   "metadata": {},
   "outputs": [
    {
     "data": {
      "text/plain": [
       "array([[0., 0., 0., 0., 0., 0., 0., 0., 0., 0.],\n",
       "       [0., 0., 0., 0., 0., 0., 0., 0., 0., 0.],\n",
       "       [0., 0., 0., 0., 0., 0., 0., 0., 0., 0.],\n",
       "       [0., 0., 0., 0., 0., 1., 0., 0., 0., 0.],\n",
       "       [0., 0., 0., 0., 0., 1., 0., 0., 0., 1.],\n",
       "       [0., 0., 0., 0., 0., 0., 0., 0., 0., 0.],\n",
       "       [0., 0., 0., 0., 0., 0., 0., 1., 1., 0.],\n",
       "       [0., 0., 0., 0., 0., 0., 0., 0., 0., 0.],\n",
       "       [0., 0., 0., 0., 0., 0., 0., 0., 0., 0.],\n",
       "       [0., 0., 0., 0., 0., 0., 0., 0., 0., 0.]])"
      ]
     },
     "execution_count": 4,
     "metadata": {},
     "output_type": "execute_result"
    }
   ],
   "source": [
    "dag_gt"
   ]
  },
  {
   "cell_type": "code",
   "execution_count": 12,
   "metadata": {},
   "outputs": [
    {
     "data": {
      "text/plain": [
       "3"
      ]
     },
     "execution_count": 12,
     "metadata": {},
     "output_type": "execute_result"
    }
   ],
   "source": [
    "heads[0]"
   ]
  },
  {
   "cell_type": "code",
   "execution_count": 14,
   "metadata": {},
   "outputs": [
    {
     "data": {
      "text/plain": [
       "(10, 10)"
      ]
     },
     "execution_count": 14,
     "metadata": {},
     "output_type": "execute_result"
    }
   ],
   "source": [
    "dag_gt.shape"
   ]
  },
  {
   "cell_type": "code",
   "execution_count": 17,
   "metadata": {},
   "outputs": [
    {
     "name": "stdout",
     "output_type": "stream",
     "text": [
      "A causal graph has nodes V0, V1, V2, V3, V4, V5, V6, V7, V8, and V9. And its edges are V3 -> V5, V4 -> V5, V4 -> V9, V6 -> V7, and V6 -> V8. What are the neighbors of each node?\n"
     ]
    }
   ],
   "source": [
    "heads, tails = np.where(dag_gt == 1)\n",
    "nrow,ncol = dag_gt.shape\n",
    "# causal graph nodes\n",
    "prompt_dag = 'A causal graph has nodes '\n",
    "for i in range(nrow-1):\n",
    "    prompt_dag += f'V{i}, '\n",
    "prompt_dag += f'and V{i+1}. And its edges are '\n",
    "\n",
    "# causal graph edges\n",
    "for i in range(len(heads)-1):\n",
    "    prompt_dag += f'V{heads[i]} -> V{tails[i]}, '\n",
    "prompt_dag += f'and V{heads[i+1]} -> V{tails[i+1]}. '\n",
    "\n",
    "\n",
    "# causal graph reasoning questions\n",
    "prompt_dag += 'What are the neighbors of each node?'\n",
    "print(prompt_dag)"
   ]
  },
  {
   "cell_type": "code",
   "execution_count": null,
   "metadata": {},
   "outputs": [],
   "source": [
    "for i in range(len(dag_gt[:,0])):\n",
    "    indices = np.where(dag_gt[i,:] == 1)\n",
    "    if len(indices)\n"
   ]
  },
  {
   "cell_type": "code",
   "execution_count": 44,
   "metadata": {},
   "outputs": [],
   "source": [
    "import re\n",
    "import numpy as np\n",
    "pattern = r'V\\d+'\n",
    "pattern_bt = r'bt\\d'\n",
    "bt_id = 0\n",
    "adj = np.zeros((10,10))\n",
    "\n",
    "adj_ls = []\n",
    "# Open the file in read mode\n",
    "with open('response.txt', 'r') as file:\n",
    "    # Iterate over each line in the file\n",
    "    for line in file:\n",
    "        # Process the line (strip is used to remove the newline character)\n",
    "        text = line.strip()\n",
    "        line = re.sub(r'[^a-zA-Z0-9]', '', text)\n",
    "\n",
    "        # Find all matches in the text\n",
    "        bt_ind = re.findall(pattern_bt, line)\n",
    "\n",
    "        # Print the extracted matches\n",
    "        \n",
    "        if len(bt_ind) > 0:\n",
    "            adj_ls.append(adj)\n",
    "            adj = np.zeros((10,10))\n",
    "            bt_id += 1\n",
    "        else:\n",
    "            neighbors = re.findall(pattern, line)\n",
    "            for i in range(len(neighbors)):\n",
    "                if i == 0:\n",
    "                    ni = re.sub(r'[^0-9]', '', neighbors[i])\n",
    "                    row_index = int(ni)\n",
    "                else: \n",
    "                    ni = re.sub(r'[^0-9]', '', neighbors[i])\n",
    "                    col_index = int(ni)\n",
    "                    adj[row_index,col_index]  = 1\n",
    "adj_ls.append(adj)\n",
    "    "
   ]
  },
  {
   "cell_type": "code",
   "execution_count": 45,
   "metadata": {},
   "outputs": [
    {
     "data": {
      "text/plain": [
       "(5, 6)"
      ]
     },
     "execution_count": 45,
     "metadata": {},
     "output_type": "execute_result"
    }
   ],
   "source": [
    "bt_id,len(adj_ls)"
   ]
  }
 ],
 "metadata": {
  "kernelspec": {
   "display_name": "Python 3",
   "language": "python",
   "name": "python3"
  },
  "language_info": {
   "codemirror_mode": {
    "name": "ipython",
    "version": 3
   },
   "file_extension": ".py",
   "mimetype": "text/x-python",
   "name": "python",
   "nbconvert_exporter": "python",
   "pygments_lexer": "ipython3",
   "version": "3.11.9"
  }
 },
 "nbformat": 4,
 "nbformat_minor": 2
}
