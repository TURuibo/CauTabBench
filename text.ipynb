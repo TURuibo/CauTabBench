{
 "cells": [
  {
   "cell_type": "code",
   "execution_count": 27,
   "metadata": {},
   "outputs": [],
   "source": [
    "import os,sys\n",
    "cwd = os.path.abspath(os.path.curdir)\n",
    "sys.path.append(cwd)  # workplace\n",
    "import time\n",
    "import numpy as np\n",
    "import pandas as pd\n",
    "import torch\n",
    "import argparse\n"
   ]
  },
  {
   "cell_type": "code",
   "execution_count": 29,
   "metadata": {},
   "outputs": [],
   "source": [
    "def text_cz(cz):\n",
    "    cz_text = ''\n",
    "    for element in cz:\n",
    "        cz_text += 'V' + str(element) \n",
    "    return cz_text\n",
    "\n",
    "\n",
    "def text_ci(ciset):\n",
    "    question_ls = []\n",
    "    for cis in ciset:\n",
    "        if len(cis[2]) == 0:\n",
    "            ci_text = f'Are V{cis[0]} and V{cis[1]} independent from each other?'\n",
    "        else:\n",
    "            cz_text =text_cz(cis[2])\n",
    "            ci_text = f'Are V{cis[0]} and V{cis[1]} conditionally independent given {cz_text}?'    \n",
    "        question_ls.append(ci_text)\n",
    "    return question_ls\n",
    "\n",
    "\n",
    "from eval_llms.src.causal_eval.helper import get_sets\n"
   ]
  },
  {
   "cell_type": "code",
   "execution_count": 26,
   "metadata": {},
   "outputs": [],
   "source": [
    "dataname = 'lu'\n",
    "for sim_seed in range(100,110):\n",
    "    adj_path = f'./data/sim_{dataname}/{sim_seed}/generated_graph_target.csv'\n",
    "    adj_df = pd.read_csv(adj_path)\n",
    "    _,_,conditional_independent_set,_,conditional_dependent_set = get_sets(adj_df.to_numpy())\n",
    "\n",
    "    ci_sets = text_ci(conditional_independent_set)\n",
    "    nci_set = text_ci(conditional_dependent_set)\n",
    "    with open(f'./eval_llms/data/{sim_seed}_questions.txt', 'w') as file:\n",
    "        for q in ci_sets:\n",
    "            file.write(q)\n",
    "            file.write('\\n')\n",
    "        for q in nci_set:\n",
    "            file.write(q)\n",
    "            file.write('\\n')\n",
    "\n",
    "    with open(f'./eval_llms/data/{sim_seed}_answers.txt', 'w') as file:\n",
    "        for q in ci_sets:\n",
    "            file.write('yes')\n",
    "            file.write('\\n')\n",
    "        for q in nci_set:\n",
    "            file.write('no')\n",
    "            file.write('\\n')"
   ]
  }
 ],
 "metadata": {
  "kernelspec": {
   "display_name": "Python 3",
   "language": "python",
   "name": "python3"
  },
  "language_info": {
   "codemirror_mode": {
    "name": "ipython",
    "version": 3
   },
   "file_extension": ".py",
   "mimetype": "text/x-python",
   "name": "python",
   "nbconvert_exporter": "python",
   "pygments_lexer": "ipython3",
   "version": "3.11.9"
  }
 },
 "nbformat": 4,
 "nbformat_minor": 2
}
